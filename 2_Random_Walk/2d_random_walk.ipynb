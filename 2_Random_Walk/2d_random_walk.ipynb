{
 "cells": [
  {
   "cell_type": "markdown",
   "id": "7d371514",
   "metadata": {},
   "source": [
    "# Simple Continuous-Angle Walk"
   ]
  },
  {
   "cell_type": "code",
   "execution_count": 1,
   "id": "52a4b28b",
   "metadata": {},
   "outputs": [],
   "source": [
    "import numpy as np\n",
    "\n",
    "def simulate_continuous_walk(n_particles=100, n_steps=1000, step_size=1.0, seed=None):\n",
    "    rng = np.random.default_rng(seed)\n",
    "    # angles: shape (n_steps, n_particles)\n",
    "    theta = rng.uniform(0, 2*np.pi, size=(n_steps, n_particles))\n",
    "    # steps shape (n_steps, n_particles, 2)\n",
    "    steps = np.stack((np.cos(theta), np.sin(theta)), axis=-1) * step_size\n",
    "    # positions: cumsum over time -> (n_steps, n_particles, 2)\n",
    "    positions = np.cumsum(steps, axis=0)\n",
    "    # prepend origin (optional) -> shape (n_steps+1, n_particles, 2)\n",
    "    origins = np.zeros((1, n_particles, 2))\n",
    "    positions = np.vstack((origins, positions))\n",
    "    return positions  # positions[t, p] -> (x,y) at time t\n"
   ]
  },
  {
   "cell_type": "code",
   "execution_count": 6,
   "id": "0b534e28",
   "metadata": {},
   "outputs": [
    {
     "name": "stdout",
     "output_type": "stream",
     "text": [
      "[[[  0.           0.        ]\n",
      "  [  0.           0.        ]\n",
      "  [  0.           0.        ]\n",
      "  ...\n",
      "  [  0.           0.        ]\n",
      "  [  0.           0.        ]\n",
      "  [  0.           0.        ]]\n",
      "\n",
      " [[  0.45421062  -0.89089433]\n",
      "  [ -0.25496358   0.96695066]\n",
      "  [ -0.59886916  -0.80084689]\n",
      "  ...\n",
      "  [  0.76951346  -0.6386306 ]\n",
      "  [  0.99074943  -0.13570393]\n",
      "  [ -0.95674553   0.2909261 ]]\n",
      "\n",
      " [[ -0.53119141  -1.06113781]\n",
      "  [  0.60934334   0.4639859 ]\n",
      "  [  0.31903787  -0.40405136]\n",
      "  ...\n",
      "  [  0.42464319  -1.57728096]\n",
      "  [  1.76592643  -0.76744804]\n",
      "  [ -0.91175164  -0.70806117]]\n",
      "\n",
      " ...\n",
      "\n",
      " [[ 47.65547381 -25.44031915]\n",
      "  [-21.3439966  -22.7391785 ]\n",
      "  [  5.74741174  21.3230366 ]\n",
      "  ...\n",
      "  [-10.14434424   3.65185768]\n",
      "  [ 19.61657913   8.58339077]\n",
      "  [  8.75156972 -19.69805772]]\n",
      "\n",
      " [[ 48.64444581 -25.58842172]\n",
      "  [-21.75272272 -23.65183559]\n",
      "  [  4.79698747  21.63399273]\n",
      "  ...\n",
      "  [-11.05971104   4.05447862]\n",
      "  [ 18.93994911   9.31971394]\n",
      "  [  8.98031817 -20.67154328]]\n",
      "\n",
      " [[ 48.031907   -24.7979812 ]\n",
      "  [-22.09041374 -22.71057857]\n",
      "  [  4.69504281  22.6287828 ]\n",
      "  ...\n",
      "  [-10.35350909   4.76248908]\n",
      "  [ 18.43794731  10.18458051]\n",
      "  [  8.1111674  -21.16609049]]]\n"
     ]
    }
   ],
   "source": [
    "print(simulate_continuous_walk())"
   ]
  },
  {
   "cell_type": "markdown",
   "id": "23c247ea",
   "metadata": {},
   "source": [
    "# Simple Lattice Random Walk"
   ]
  },
  {
   "cell_type": "code",
   "execution_count": 3,
   "id": "1e7d74c6",
   "metadata": {},
   "outputs": [],
   "source": [
    "def simulate_lattice_walk(n_particles=100, n_steps=1000, seed=None):\n",
    "    rng = np.random.default_rng(seed)\n",
    "    # choices: 0=right,1=left,2=up,3=down\n",
    "    choices = rng.integers(0, 4, size=(n_steps, n_particles))\n",
    "    dx = np.where(choices==0, 1, np.where(choices==1, -1, 0))\n",
    "    dy = np.where(choices==2, 1, np.where(choices==3, -1, 0))\n",
    "    steps = np.stack((dx, dy), axis=-1)\n",
    "    positions = np.cumsum(steps, axis=0)\n",
    "    positions = np.vstack((np.zeros((1, n_particles, 2)), positions))\n",
    "    return positions\n"
   ]
  },
  {
   "cell_type": "code",
   "execution_count": 5,
   "id": "4e7e8c42",
   "metadata": {},
   "outputs": [
    {
     "name": "stdout",
     "output_type": "stream",
     "text": [
      "[[[  0.   0.]\n",
      "  [  0.   0.]\n",
      "  [  0.   0.]\n",
      "  ...\n",
      "  [  0.   0.]\n",
      "  [  0.   0.]\n",
      "  [  0.   0.]]\n",
      "\n",
      " [[  0.   1.]\n",
      "  [ -1.   0.]\n",
      "  [  1.   0.]\n",
      "  ...\n",
      "  [  1.   0.]\n",
      "  [  0.  -1.]\n",
      "  [ -1.   0.]]\n",
      "\n",
      " [[  0.   0.]\n",
      "  [ -1.  -1.]\n",
      "  [  2.   0.]\n",
      "  ...\n",
      "  [  1.   1.]\n",
      "  [ -1.  -1.]\n",
      "  [ -1.  -1.]]\n",
      "\n",
      " ...\n",
      "\n",
      " [[-56.  32.]\n",
      "  [ 48. -28.]\n",
      "  [ 32.  -2.]\n",
      "  ...\n",
      "  [-22. -26.]\n",
      "  [  0.  24.]\n",
      "  [  3.  -5.]]\n",
      "\n",
      " [[-56.  31.]\n",
      "  [ 48. -27.]\n",
      "  [ 32.  -3.]\n",
      "  ...\n",
      "  [-23. -26.]\n",
      "  [  1.  24.]\n",
      "  [  3.  -6.]]\n",
      "\n",
      " [[-56.  30.]\n",
      "  [ 48. -28.]\n",
      "  [ 31.  -3.]\n",
      "  ...\n",
      "  [-23. -25.]\n",
      "  [  0.  24.]\n",
      "  [  3.  -5.]]]\n"
     ]
    }
   ],
   "source": [
    "print(simulate_lattice_walk())"
   ]
  }
 ],
 "metadata": {
  "kernelspec": {
   "display_name": "Numpy_Matplotlib",
   "language": "python",
   "name": "python3"
  },
  "language_info": {
   "codemirror_mode": {
    "name": "ipython",
    "version": 3
   },
   "file_extension": ".py",
   "mimetype": "text/x-python",
   "name": "python",
   "nbconvert_exporter": "python",
   "pygments_lexer": "ipython3",
   "version": "3.13.5"
  }
 },
 "nbformat": 4,
 "nbformat_minor": 5
}
